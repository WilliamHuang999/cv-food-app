{
 "cells": [
  {
   "cell_type": "code",
   "execution_count": 1,
   "id": "61ea61f4",
   "metadata": {
    "_cell_guid": "6a03741b-6dd5-435e-8d8d-ffb6989d96da",
    "_uuid": "8bc14dc0-1c02-4a72-96c2-bf27321b7876",
    "collapsed": false,
    "execution": {
     "iopub.execute_input": "2023-07-02T19:56:58.370535Z",
     "iopub.status.busy": "2023-07-02T19:56:58.370091Z",
     "iopub.status.idle": "2023-07-02T19:56:58.377549Z",
     "shell.execute_reply": "2023-07-02T19:56:58.375935Z"
    },
    "jupyter": {
     "outputs_hidden": false
    },
    "papermill": {
     "duration": 0.013626,
     "end_time": "2023-07-02T19:56:58.380424",
     "exception": false,
     "start_time": "2023-07-02T19:56:58.366798",
     "status": "completed"
    },
    "tags": []
   },
   "outputs": [],
   "source": [
    "# HELLO there\n",
    "\n",
    "# import tensorflow as tf\n",
    "# import os\n",
    "# from keras.utils import img_to_array, load_img\n",
    "# import numpy as np\n",
    "# import cv2 as cvff\n",
    "\n",
    "# # Load model\n",
    "# model = tf.keras.models.load_model(\"===========\")       # Put in model path here\n",
    "# print(model.summary())\n",
    "\n",
    "# # Load categories\n",
    "# source_folder = \"Test folder here\"\n",
    "# categories = os.listsdir(source_folder).sort()\n",
    "# print(categories)\n",
    "# print(len(categories))      # Should be 131\n",
    "\n",
    "# # Load and prepare image\n",
    "# def prepareImage(path):\n",
    "#     img = load_img(img, target_size=(100,100))\n",
    "#     imgArray = img_to_array(img)\n",
    "#     # print(imgArray.shape)\n",
    "#     imgArray = np.expand_dims(imgArray, axis=0)\n",
    "#     imgArray = imgArray / 255.\n",
    "#     return imgArray\n",
    "\n",
    "# testImgPath = \"=======================\"\n",
    "# imageForModel = prepareImage(testImgPath)\n",
    "\n",
    "# resultArray = model.predict(testImgPath, verbose=1)\n",
    "# answers = np.argmax(resultArray, axis=1)\n",
    "# print(categories[answers[0]])\n",
    "\n",
    "# # Show image with text below"
   ]
  }
 ],
 "metadata": {
  "kernelspec": {
   "display_name": "Python 3",
   "language": "python",
   "name": "python3"
  },
  "language_info": {
   "codemirror_mode": {
    "name": "ipython",
    "version": 3
   },
   "file_extension": ".py",
   "mimetype": "text/x-python",
   "name": "python",
   "nbconvert_exporter": "python",
   "pygments_lexer": "ipython3",
   "version": "3.10.10"
  },
  "papermill": {
   "default_parameters": {},
   "duration": 10.020994,
   "end_time": "2023-07-02T19:56:59.203025",
   "environment_variables": {},
   "exception": null,
   "input_path": "__notebook__.ipynb",
   "output_path": "__notebook__.ipynb",
   "parameters": {},
   "start_time": "2023-07-02T19:56:49.182031",
   "version": "2.4.0"
  }
 },
 "nbformat": 4,
 "nbformat_minor": 5
}
