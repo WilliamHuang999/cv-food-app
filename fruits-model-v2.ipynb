{
 "cells": [
  {
   "cell_type": "markdown",
   "metadata": {},
   "source": [
    "# Set up"
   ]
  },
  {
   "cell_type": "code",
   "execution_count": 50,
   "metadata": {},
   "outputs": [],
   "source": [
    "import tensorflow as tf\n",
    "import os\n",
    "from keras.utils import img_to_array, load_img\n",
    "import numpy as np\n",
    "from keras.models import Sequential\n",
    "from keras.layers import Conv2D, MaxPooling2D, Dropout, Flatten, Dense\n",
    "from keras.preprocessing.image import ImageDataGenerator\n",
    "from keras.callbacks import EarlyStopping\n",
    "import pandas as pd\n",
    "from matplotlib import pyplot as plt\n",
    "\n",
    "trainPath = r\"C:\\Users\\gener\\OneDrive\\Documents\\fruits360\\fruits-360\\train-small\"\n",
    "testPath = r\"C:\\Users\\gener\\OneDrive\\Documents\\fruits360\\fruits-360\\test-small\"\n",
    "\n",
    "batchSize = 64      # Reduce value if you have less GPU\n"
   ]
  },
  {
   "cell_type": "markdown",
   "metadata": {},
   "source": [
    "# Create models"
   ]
  },
  {
   "cell_type": "code",
   "execution_count": 51,
   "metadata": {},
   "outputs": [],
   "source": [
    "def model1(numClasses):\n",
    "    \"\"\"\n",
    "    This model is from the Eran guy's tutorial\n",
    "    \"\"\"\n",
    "    model = Sequential()\n",
    "    # Base\n",
    "    model.add(Conv2D(filters=32, kernel_size=3, activation=\"relu\", input_shape=(100,100,3)))\n",
    "    model.add(MaxPooling2D())\n",
    "    model.add(Conv2D(filters=64, kernel_size=3, activation=\"relu\"))\n",
    "    model.add(Conv2D(filters=128, kernel_size=3, activation=\"relu\"))\n",
    "    model.add(MaxPooling2D())\n",
    "    model.add(Dropout(0.5))\n",
    "    model.add(Flatten())\n",
    "    # Head\n",
    "    model.add(Dense(3000, activation=\"relu\"))\n",
    "    model.add(Dense(1000, activation=\"relu\"))\n",
    "    model.add(Dense(numClasses, activation=\"softmax\"))\n",
    "    return model\n",
    "\n",
    "def model2(numClasses):\n",
    "    \"\"\"\n",
    "    Tries reorganizing and standardizing convolutional blocks based on Kaggle lesson\n",
    "    \"\"\"\n",
    "    model = Sequential()\n",
    "    # Base\n",
    "    model.add(Conv2D(filters=32, kernel_size=3, activation='relu', input_shape=(100,100,3)))\n",
    "    model.add(MaxPooling2D())\n",
    "    model.add(Conv2D(filters=64, kernel_size=3, activation='relu'))\n",
    "    model.add(MaxPooling2D())\n",
    "    model.add(Conv2D(filters=128, kernel_size=3, activation='relu'))\n",
    "    model.add(MaxPooling2D())\n",
    "    # Head\n",
    "    model.add(Flatten())\n",
    "    model.add(Dense(64, activation=\"relu\"))\n",
    "    model.add(Dense(numClasses, activation=\"softmax\"))     # CHANGE THE 131\n",
    "    return model\n",
    "\n",
    "# def model3():\n",
    "#     \"\"\"\n",
    "#     Uses depthwise convolutional blocks\n",
    "#     \"\"\"\n",
    "#     from tensorflow.keras.models import Sequential\n",
    "# from tensorflow.keras.layers import Conv2D, DepthwiseConv2D, GlobalAveragePooling2D, Dense, Reshape, Activation, Add\n",
    "\n",
    "# def conv_block(inputs, filters, kernel_size, strides):\n",
    "#     model = Sequential()\n",
    "#     model.add(Conv2D(filters, kernel_size, strides=strides, padding='same'))\n",
    "#     model.add(Activation('relu'))\n",
    "#     return model(inputs)\n",
    "\n",
    "# def depthwise_conv_block(inputs, kernel_size, strides):\n",
    "#     model = Sequential()\n",
    "#     model.add(DepthwiseConv2D(kernel_size, strides=strides, padding='same'))\n",
    "#     model.add(Activation('relu'))\n",
    "#     model.add(Conv2D(256, (1, 1), padding='same'))\n",
    "#     model.add(Activation('relu'))\n",
    "#     return model(inputs)\n",
    "\n",
    "# def mobileNetV3():\n",
    "#     model = Sequential()\n",
    "    \n",
    "#     model.add(Conv2D(16, (3, 3), strides=(2, 2), padding='same', input_shape=(224, 224, 3)))\n",
    "    \n",
    "#     model.add(conv_block(32, (3, 3), strides=(2, 2)))\n",
    "#     model.add(depthwise_conv_block((3, 3), strides=(1, 1)))\n",
    "    \n",
    "#     model.add(conv_block(64, (3, 3), strides=(2, 2)))\n",
    "#     model.add(depthwise_conv_block((3, 3), strides=(1, 1)))\n",
    "#     model.add(depthwise_conv_block((3, 3), strides=(1, 1)))\n",
    "#     model.add(depthwise_conv_block((3, 3), strides=(1, 1)))\n",
    "#     model.add(depthwise_conv_block((3, 3), strides=(1, 1)))\n",
    "#     model.add(depthwise_conv_block((3, 3), strides=(1, 1)))\n",
    "\n",
    "#     model.add(conv_block(128, (3, 3), strides=(2, 2)))\n",
    "#     model.add(depthwise_conv_block((3, 3), strides=(1, 1)))\n",
    "#     model.add(depthwise_conv_block((3, 3), strides=(1, 1)))\n",
    "#     model.add(depthwise_conv_block((3, 3), strides=(1, 1)))\n",
    "\n",
    "#     model.add(conv_block(256, (3, 3), strides=(2, 2)))\n",
    "#     model.add(depthwise_conv_block((3, 3), strides=(1, 1)))\n",
    "\n",
    "#     model.add(GlobalAveragePooling2D())\n",
    "#     model.add(Reshape((1, 1, 256)))\n",
    "    \n",
    "#     model.add(Conv2D(1280, (1, 1), padding='same'))\n",
    "#     model.add(Activation('relu'))\n",
    "#     model.add(Conv2D(num_classes, (1, 1), padding='same'))\n",
    "#     model.add(Activation('softmax'))\n",
    "    \n",
    "#     return model\n",
    "\n",
    "# # Create the MobileNetV3 model\n",
    "# model = mobileNetV3()\n",
    "\n",
    "# # Compile the model\n",
    "# model.compile(optimizer='adam', loss='categorical_crossentropy', metrics=['accuracy'])\n",
    "\n",
    "\n",
    "\n",
    "# def model4(numClasses):\n",
    "#     \"\"\"\n",
    "#     Use transfer learning with MobileNetV3 model.\n",
    "#     \"\"\"\n",
    "\n",
    "# def model5(numClasses):\n",
    "#     \"\"\"\n",
    "#     Try preprocessing layers \n",
    "#     \"\"\"\n",
    "\n",
    "# def model6(numClasses):\n",
    "#     \"\"\"\n",
    "#     Two output layers for fruits and vegetables\n",
    "#     \"\"\"\n",
    "\n",
    "\n",
    "\n"
   ]
  },
  {
   "cell_type": "markdown",
   "metadata": {},
   "source": [
    "# Train models"
   ]
  },
  {
   "cell_type": "code",
   "execution_count": 13,
   "metadata": {},
   "outputs": [
    {
     "name": "stdout",
     "output_type": "stream",
     "text": [
      "Found 2342 images belonging to 5 classes.\n",
      "Found 2342 images belonging to 5 classes.\n",
      "Epoch 1/50\n",
      "37/37 [==============================] - 7s 159ms/step - loss: 0.4138 - accuracy: 0.8463 - val_loss: 0.0632 - val_accuracy: 0.9851\n",
      "Epoch 2/50\n",
      "37/37 [==============================] - 5s 141ms/step - loss: 0.1205 - accuracy: 0.9599 - val_loss: 0.0521 - val_accuracy: 0.9915\n",
      "Epoch 3/50\n",
      "37/37 [==============================] - 5s 135ms/step - loss: 0.0487 - accuracy: 0.9838 - val_loss: 0.0031 - val_accuracy: 1.0000\n",
      "Epoch 4/50\n",
      "37/37 [==============================] - 5s 135ms/step - loss: 0.0072 - accuracy: 0.9979 - val_loss: 0.0032 - val_accuracy: 1.0000\n",
      "Epoch 5/50\n",
      "37/37 [==============================] - 5s 144ms/step - loss: 0.0116 - accuracy: 0.9953 - val_loss: 0.0021 - val_accuracy: 1.0000\n",
      "Epoch 6/50\n",
      "37/37 [==============================] - 5s 132ms/step - loss: 0.0013 - accuracy: 1.0000 - val_loss: 1.2944e-04 - val_accuracy: 1.0000\n",
      "Epoch 7/50\n",
      "37/37 [==============================] - 5s 137ms/step - loss: 5.6828e-04 - accuracy: 1.0000 - val_loss: 5.0660e-05 - val_accuracy: 1.0000\n",
      "Epoch 8/50\n",
      "37/37 [==============================] - 5s 140ms/step - loss: 2.5117e-04 - accuracy: 1.0000 - val_loss: 2.8795e-05 - val_accuracy: 1.0000\n"
     ]
    }
   ],
   "source": [
    "modelv2 = model1(5)\n",
    "\n",
    "# Compile model\n",
    "modelv2.compile(loss=\"categorical_crossentropy\", optimizer=\"adam\", metrics=[\"accuracy\"])\n",
    "\n",
    "# Load data\n",
    "train_datagen = ImageDataGenerator(rescale=1./255, shear_range=0.3, horizontal_flip=True, vertical_flip=True, zoom_range=0.3)\n",
    "\n",
    "test_datagen = ImageDataGenerator(rescale=1./255)\n",
    "\n",
    "train_generator = train_datagen.flow_from_directory(trainPath, target_size=(100,100), batch_size=batchSize, color_mode=\"rgb\", class_mode=\"categorical\", shuffle=True)\n",
    "\n",
    "\n",
    "test_generator = test_datagen.flow_from_directory(trainPath, target_size=(100,100), batch_size=batchSize, color_mode=\"rgb\", class_mode=\"categorical\")\n",
    "\n",
    "stepsPerEpoch = np.ceil(train_generator.samples / batchSize)\n",
    "validationSteps = np.ceil(test_generator.samples / batchSize)\n",
    "\n",
    "# Early stopping\n",
    "stop_early = EarlyStopping(monitor=\"val_accuracy\", patience=5, min_delta=0.001, restore_best_weights=True)\n",
    "\n",
    "history = modelv2.fit(train_generator, steps_per_epoch=stepsPerEpoch, epochs=50, validation_data=test_generator, validation_steps=validationSteps, callbacks=[stop_early])\n",
    "\n",
    "modelv2.save(r\"C:\\Users\\gener\\OneDrive\\Documents\\cv-food-app\\fruits360Model-v2.h5\") "
   ]
  },
  {
   "cell_type": "code",
   "execution_count": 14,
   "metadata": {},
   "outputs": [
    {
     "data": {
      "text/plain": [
       "<Axes: >"
      ]
     },
     "execution_count": 14,
     "metadata": {},
     "output_type": "execute_result"
    },
    {
     "data": {
      "image/png": "[encoded data removed]",
      "text/plain": [
       "<Figure size 640x480 with 1 Axes>"
      ]
     },
     "metadata": {},
     "output_type": "display_data"
    },
    {
     "data": {
      "image/png": "[encoded data removed]",
      "text/plain": [
       "<Figure size 640x480 with 1 Axes>"
      ]
     },
     "metadata": {},
     "output_type": "display_data"
    }
   ],
   "source": [
    "# Plot learning curves\n",
    "history_frame = pd.DataFrame(history.history)\n",
    "history_frame.loc[:, ['loss', 'val_loss']].plot()\n",
    "history_frame.loc[:, ['accuracy', 'val_accuracy']].plot()"
   ]
  },
  {
   "cell_type": "markdown",
   "metadata": {},
   "source": [
    "# Test models"
   ]
  },
  {
   "cell_type": "code",
   "execution_count": 44,
   "metadata": {},
   "outputs": [
    {
     "ename": "ValueError",
     "evalue": "'images' must have either 3 or 4 dimensions.",
     "output_type": "error",
     "traceback": [
      "\u001b[1;31m---------------------------------------------------------------------------\u001b[0m",
      "\u001b[1;31mValueError\u001b[0m                                Traceback (most recent call last)",
      "Cell \u001b[1;32mIn[44], line 31\u001b[0m\n\u001b[0;32m     28\u001b[0m img \u001b[39m=\u001b[39m tf\u001b[39m.\u001b[39mio\u001b[39m.\u001b[39mread_file(testImagePath)\n\u001b[0;32m     29\u001b[0m image \u001b[39m=\u001b[39m tf\u001b[39m.\u001b[39mimage\u001b[39m.\u001b[39mdecode_image(img, channels\u001b[39m=\u001b[39m\u001b[39m3\u001b[39m)\n\u001b[1;32m---> 31\u001b[0m img \u001b[39m=\u001b[39m tf\u001b[39m.\u001b[39;49mimage\u001b[39m.\u001b[39;49mresize(img, (\u001b[39m100\u001b[39;49m,\u001b[39m100\u001b[39;49m))\n\u001b[0;32m     33\u001b[0m \u001b[39m# img = load_img(testImagePath)\u001b[39;00m\n\u001b[0;32m     34\u001b[0m \u001b[39m# img = scale_resize_image(img)\u001b[39;00m\n\u001b[0;32m     35\u001b[0m plt\u001b[39m.\u001b[39mimshow(img)\n",
      "File \u001b[1;32mc:\\Users\\gener\\miniconda3\\envs\\tf\\lib\\site-packages\\tensorflow\\python\\util\\traceback_utils.py:153\u001b[0m, in \u001b[0;36mfilter_traceback.<locals>.error_handler\u001b[1;34m(*args, **kwargs)\u001b[0m\n\u001b[0;32m    151\u001b[0m \u001b[39mexcept\u001b[39;00m \u001b[39mException\u001b[39;00m \u001b[39mas\u001b[39;00m e:\n\u001b[0;32m    152\u001b[0m   filtered_tb \u001b[39m=\u001b[39m _process_traceback_frames(e\u001b[39m.\u001b[39m__traceback__)\n\u001b[1;32m--> 153\u001b[0m   \u001b[39mraise\u001b[39;00m e\u001b[39m.\u001b[39mwith_traceback(filtered_tb) \u001b[39mfrom\u001b[39;00m \u001b[39mNone\u001b[39;00m\n\u001b[0;32m    154\u001b[0m \u001b[39mfinally\u001b[39;00m:\n\u001b[0;32m    155\u001b[0m   \u001b[39mdel\u001b[39;00m filtered_tb\n",
      "File \u001b[1;32mc:\\Users\\gener\\miniconda3\\envs\\tf\\lib\\site-packages\\tensorflow\\python\\ops\\image_ops_impl.py:1445\u001b[0m, in \u001b[0;36m_resize_images_common\u001b[1;34m(images, resizer_fn, size, preserve_aspect_ratio, name, skip_resize_if_same)\u001b[0m\n\u001b[0;32m   1443\u001b[0m   images \u001b[39m=\u001b[39m array_ops\u001b[39m.\u001b[39mexpand_dims(images, \u001b[39m0\u001b[39m)\n\u001b[0;32m   1444\u001b[0m \u001b[39melif\u001b[39;00m images\u001b[39m.\u001b[39mget_shape()\u001b[39m.\u001b[39mndims \u001b[39m!=\u001b[39m \u001b[39m4\u001b[39m:\n\u001b[1;32m-> 1445\u001b[0m   \u001b[39mraise\u001b[39;00m \u001b[39mValueError\u001b[39;00m(\u001b[39m'\u001b[39m\u001b[39m\\'\u001b[39;00m\u001b[39mimages\u001b[39m\u001b[39m\\'\u001b[39;00m\u001b[39m must have either 3 or 4 dimensions.\u001b[39m\u001b[39m'\u001b[39m)\n\u001b[0;32m   1447\u001b[0m _, height, width, _ \u001b[39m=\u001b[39m images\u001b[39m.\u001b[39mget_shape()\u001b[39m.\u001b[39mas_list()\n\u001b[0;32m   1449\u001b[0m \u001b[39mtry\u001b[39;00m:\n",
      "\u001b[1;31mValueError\u001b[0m: 'images' must have either 3 or 4 dimensions."
     ]
    }
   ],
   "source": [
    "# Load model\n",
    "modelv2 = tf.keras.models.load_model(r\"C:\\Users\\gener\\OneDrive\\Documents\\cv-food-app\\fruits360Model-v2.h5\")\n",
    "\n",
    "# Load categories\n",
    "source_folder = r\"C:\\Users\\gener\\OneDrive\\Documents\\fruits360\\fruits-360\\test-small\"\n",
    "categories = os.listdir(source_folder)\n",
    "categories.sort()\n",
    "# print(categories)\n",
    "# print(len(categories))      # Should be 131\n",
    "\n",
    "# Load and prepare image\n",
    "def prepareImage(path):\n",
    "    img = load_img(path, target_size=(100,100))\n",
    "    imgResult = img_to_array(img)\n",
    "    imgResult = np.expand_dims(imgResult, axis=0)\n",
    "    imgResult = imgResult / 255.\n",
    "    return imgResult\n",
    "\n",
    "def scale_resize_image(image):\n",
    "    image = tf.image.convert_image_dtype(image, tf.float32) # equivalent to dividing image pixels by 255\n",
    "    image = tf.image.resize(image, (100, 100)) # Resizing the image to 224x224 dimention\n",
    "    return image\n",
    "\n",
    "\n",
    "# testImagePath = r\"C:\\Users\\gener\\OneDrive\\Documents\\fruits360\\fruits-360\\test-small\\Cocos\\4_100.jpg\"\n",
    "testImagePath = r\"C:\\Users\\gener\\OneDrive\\Documents\\cv-food-app\\fruit-images\\coconut.jpg\"\n",
    "\n",
    "img = tf.io.read_file(testImagePath)\n",
    "image = tf.image.decode_image(img, channels=3)\n",
    "\n",
    "img = tf.image.resize(img, (100,100))\n",
    "\n",
    "# img = load_img(testImagePath)\n",
    "# img = scale_resize_image(img)\n",
    "plt.imshow(img)\n",
    "plt.show()\n",
    "\n",
    "imgA = img_to_array(img)\n",
    "print(imgA.shape)\n",
    "\n",
    "# imageForModel = prepareImage(testImagePath)\n",
    "# resultArray = modelv2.predict(imageForModel, verbose=0)\n",
    "# print(resultArray)\n",
    "# answers = np.argmax(resultArray, axis=1)\n",
    "# print(categories[answers[0]])\n",
    "\n",
    "# for i in os.listdir(testFolderPath):\n",
    "#     imageForModel = prepareImage(testFolderPath + r\"\\\\\" + i)\n",
    "#     resultArray = model.predict(imageForModel, verbose=0)\n",
    "#     answers = np.argmax(resultArray, axis=1)\n",
    "#     print(i)\n",
    "#     print(categories[answers[0]])\n",
    "\n",
    "\n",
    "\n"
   ]
  },
  {
   "cell_type": "markdown",
   "metadata": {},
   "source": [
    "# Compress models"
   ]
  },
  {
   "cell_type": "code",
   "execution_count": 39,
   "metadata": {},
   "outputs": [
    {
     "name": "stderr",
     "output_type": "stream",
     "text": [
      "WARNING:absl:Found untraced functions such as _jit_compiled_convolution_op, _jit_compiled_convolution_op, _jit_compiled_convolution_op while saving (showing 3 of 3). These functions will not be directly callable after loading.\n"
     ]
    },
    {
     "name": "stdout",
     "output_type": "stream",
     "text": [
      "INFO:tensorflow:Assets written to: C:\\Users\\gener\\AppData\\Local\\Temp\\tmpgpf2vuvd\\assets\n"
     ]
    },
    {
     "name": "stderr",
     "output_type": "stream",
     "text": [
      "INFO:tensorflow:Assets written to: C:\\Users\\gener\\AppData\\Local\\Temp\\tmpgpf2vuvd\\assets\n"
     ]
    },
    {
     "name": "stdout",
     "output_type": "stream",
     "text": [
      "Predicted class: 2\n",
      "Confidence: 0.9942233\n"
     ]
    }
   ],
   "source": [
    "kerasModel = tf.keras.models.load_model(r\"C:\\Users\\gener\\OneDrive\\Documents\\cv-food-app\\fruits360Model-v1.h5\")\n",
    "converter = tf.lite.TFLiteConverter.from_keras_model(kerasModel)\n",
    "tfliteModel = converter.convert()\n",
    "open(r\"C:\\Users\\gener\\OneDrive\\Documents\\cv-food-app\\fruits360LiteModel-v1.tflite\", \"wb\").write(tfliteModel)\n",
    "\n",
    "\n",
    "\n",
    "# Load TFLite model and allocate tensors.\n",
    "interpreter = tf.lite.Interpreter(model_content=tfliteModel)\n",
    "interpreter.allocate_tensors()\n",
    "#get input and output tensors\n",
    "input_details = interpreter.get_input_details()\n",
    "output_details = interpreter.get_output_details()\n",
    "\n",
    "# Load and preprocess image\n",
    "image_path = r\"C:\\Users\\gener\\OneDrive\\Documents\\fruits360\\fruits-360\\test-small\\Cocos\\4_100.jpg\"\n",
    "image = tf.keras.preprocessing.image.load_img(image_path, target_size=(100, 100))\n",
    "image = tf.keras.preprocessing.image.img_to_array(image)\n",
    "image = np.expand_dims(image, axis=0)\n",
    "image = image / 255.0  # Normalize the image\n",
    "\n",
    "# Set the input tensor\n",
    "interpreter.set_tensor(input_details[0]['index'], image)\n",
    "\n",
    "# Run the inference\n",
    "interpreter.invoke()\n",
    "\n",
    "# Get the output tensor\n",
    "output_tensor = interpreter.get_tensor(output_details[0]['index'])\n",
    "predictions = np.squeeze(output_tensor)\n",
    "\n",
    "# Get the predicted class label\n",
    "predicted_class_index = np.argmax(predictions)\n",
    "\n",
    "print('Predicted class:', predicted_class_index)\n",
    "print('Confidence:', predictions[predicted_class_index])\n"
   ]
  }
 ],
 "metadata": {
  "kernelspec": {
   "display_name": "tf",
   "language": "python",
   "name": "python3"
  },
  "language_info": {
   "codemirror_mode": {
    "name": "ipython",
    "version": 3
   },
   "file_extension": ".py",
   "mimetype": "text/x-python",
   "name": "python",
   "nbconvert_exporter": "python",
   "pygments_lexer": "ipython3",
   "version": "3.9.17"
  },
  "orig_nbformat": 4
 },
 "nbformat": 4,
 "nbformat_minor": 2
}
